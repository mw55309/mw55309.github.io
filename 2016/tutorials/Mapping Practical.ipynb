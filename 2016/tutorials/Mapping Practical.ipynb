{
 "cells": [
  {
   "cell_type": "markdown",
   "metadata": {},
   "source": [
    "## Mapping tutorial"
   ]
  },
  {
   "cell_type": "markdown",
   "metadata": {
    "collapsed": true
   },
   "source": [
    "In this tutorial we will explore the types of data that the MinION produces, and try to look at the error mode by visual inspection of alignments.\n",
    "\n",
    "We will use data from the Ebola surveillance study in Guinea. Reads from this study are already on the server, in the tar archive ``076383.tgz``\n",
    "\n",
    "However, first we need a reference sequence to map against. "
   ]
  },
  {
   "cell_type": "code",
   "execution_count": null,
   "metadata": {
    "collapsed": true
   },
   "outputs": [],
   "source": [
    "wget https://raw.githubusercontent.com/nickloman/ebov/master/refs/EM_079517.fasta"
   ]
  },
  {
   "cell_type": "markdown",
   "metadata": {
    "collapsed": true
   },
   "source": [
    "Now let's extract FASTA files from the archive of reads. We can do this directly from the tar archive, but it's faster to extract the archive first. A tar archive is denoted by the file suffix 'tar' or 'tgz' for a zipped tar file. Poretools can extract a subset of reads using the '--type' parameter. Commonly used values include:\n",
    "\n",
    "   * ``--type 2D``  (two-direction reads)\n",
    "   * ``--type fwd`` (template reads)\n",
    "   * ``--type rev`` (complement reads)\n",
    "   \n",
    "More detailed usage can be found at the documentation site:\n",
    "\n",
    "<http://poretools.readthedocs.org/en/latest/content/examples.html#poretools-fastq>"
   ]
  },
  {
   "cell_type": "code",
   "execution_count": null,
   "metadata": {
    "collapsed": true
   },
   "outputs": [],
   "source": [
    "tar xvfz /data2/minion/R7/Ebola/076383.tgz"
   ]
  },
  {
   "cell_type": "markdown",
   "metadata": {},
   "source": [
    "This makes a directory called ``076383_180Genomes_11rx``"
   ]
  },
  {
   "cell_type": "markdown",
   "metadata": {},
   "source": [
    "Let's extract the reads:"
   ]
  },
  {
   "cell_type": "code",
   "execution_count": null,
   "metadata": {
    "collapsed": true
   },
   "outputs": [],
   "source": [
    "poretools fasta --type 2D 076383_180Genomes_11rx/pass > Ebola2D.fasta"
   ]
  },
  {
   "cell_type": "markdown",
   "metadata": {},
   "source": [
    "Check how many reads you have obtained:"
   ]
  },
  {
   "cell_type": "code",
   "execution_count": null,
   "metadata": {
    "collapsed": true
   },
   "outputs": [],
   "source": [
    "grep \">\" Ebola2D.fasta | wc -l"
   ]
  },
  {
   "cell_type": "markdown",
   "metadata": {},
   "source": [
    "Now let's align the reads to a reference sequence. You need to index the reference first:"
   ]
  },
  {
   "cell_type": "code",
   "execution_count": null,
   "metadata": {
    "collapsed": true
   },
   "outputs": [],
   "source": [
    "bwa index EM_079517.fasta"
   ]
  },
  {
   "cell_type": "markdown",
   "metadata": {},
   "source": [
    "Align the reads to the reference. Here we use BWA as the aligner and we specify that we have Oxford Nanopore reads with the ont2d option:"
   ]
  },
  {
   "cell_type": "code",
   "execution_count": null,
   "metadata": {
    "collapsed": true
   },
   "outputs": [],
   "source": [
    "bwa mem -x ont2d EM_079517.fasta Ebola2D.fasta | samtools view -bS - | samtools sort - -o Ebola2D.sorted.bam"
   ]
  },
  {
   "cell_type": "markdown",
   "metadata": {},
   "source": [
    "This command makes a file called ``Ebola2D.sorted.bam``"
   ]
  },
  {
   "cell_type": "markdown",
   "metadata": {},
   "source": [
    "Now index that bamfile:"
   ]
  },
  {
   "cell_type": "code",
   "execution_count": null,
   "metadata": {
    "collapsed": true
   },
   "outputs": [],
   "source": [
    "samtools index Ebola2D.sorted.bam"
   ]
  },
  {
   "cell_type": "markdown",
   "metadata": {
    "collapsed": true
   },
   "source": [
    "We can get some basic statistics about how well it has aligned using ``samtools stats``"
   ]
  },
  {
   "cell_type": "code",
   "execution_count": null,
   "metadata": {
    "collapsed": true
   },
   "outputs": [],
   "source": [
    "samtools stats Ebola2D.sorted.bam > Ebola2D.stats.txt"
   ]
  },
  {
   "cell_type": "code",
   "execution_count": null,
   "metadata": {
    "collapsed": true
   },
   "outputs": [],
   "source": [
    "head -40 Ebola2D.stats.txt"
   ]
  },
  {
   "cell_type": "markdown",
   "metadata": {},
   "source": [
    "   - How many reads were mapped?\n",
    "   - What is the average length of the reads?"
   ]
  },
  {
   "cell_type": "markdown",
   "metadata": {
    "collapsed": true
   },
   "source": [
    "``samtools stats`` can give us some coverage plots:"
   ]
  },
  {
   "cell_type": "code",
   "execution_count": null,
   "metadata": {
    "collapsed": true
   },
   "outputs": [],
   "source": [
    "grep \"^COV\" Ebola2D.stats.txt > Ebola2D.coverage.txt"
   ]
  },
  {
   "cell_type": "code",
   "execution_count": null,
   "metadata": {
    "collapsed": true
   },
   "outputs": [],
   "source": [
    "head -10 Ebola2D.coverage.txt"
   ]
  },
  {
   "cell_type": "markdown",
   "metadata": {},
   "source": [
    "You can plot this in RStudio with code like this:"
   ]
  },
  {
   "cell_type": "code",
   "execution_count": null,
   "metadata": {
    "collapsed": true
   },
   "outputs": [],
   "source": [
    "library(ggplot2)\n",
    "cov=read.table(\"Ebola2D.coverage.txt\", sep=\"\\t\")\n",
    "cov[1,]\n",
    "ggplot(cov, aes(x=V3, y=V4)) + geom_bar(stat=\"identity\") + xlab(\"Coverage\") + ylab(\"Count\")"
   ]
  },
  {
   "cell_type": "markdown",
   "metadata": {},
   "source": [
    "What do you think about the coverage plot? What clues does it give you about how the sample was prepared?"
   ]
  },
  {
   "cell_type": "markdown",
   "metadata": {},
   "source": [
    "### Consolidating your knowledge"
   ]
  },
  {
   "cell_type": "markdown",
   "metadata": {},
   "source": [
    "Now, repeat this process from the beginning, but do it for a different dataset, choose from:\n",
    "\n",
    "   - All 1D pass reads (hint: --type fwd,rev)\n",
    "   - All pass forward reads (hint: --type fwd)\n",
    "   - All pass reverse reads (hint: --type rev)\n",
    "   - All 2D fail reads (hint: --type 2D, use the fail directory)\n",
    "\n",
    "1D reads only! Ensure you use a different file name, e.g. ``Ebola1D.fasta``\n",
    "\n",
    "   - How does the number of reads change?\n",
    "   - How does the mapping frequency change?"
   ]
  },
  {
   "cell_type": "markdown",
   "metadata": {},
   "source": [
    "## Inspecting alignments"
   ]
  },
  {
   "cell_type": "markdown",
   "metadata": {},
   "source": [
    "Now, let's download the BAM file and inspect the alignment. My favoured tool for this is Tablet. It requires Java.\n",
    "\n",
    "<https://ics.hutton.ac.uk/tablet/>"
   ]
  },
  {
   "cell_type": "markdown",
   "metadata": {},
   "source": [
    "You need to load the following two files into Tablet:\n",
    "\n",
    "alignment file: Ebola2D.sorted.bam\n",
    "reference file: EM_079517.fasta"
   ]
  },
  {
   "cell_type": "markdown",
   "metadata": {
    "collapsed": true
   },
   "source": [
    "Inspect the alignment.\n",
    "\n",
    "   - Did the alignment confirm your earlier suspicions about how the sample was prepared? \n",
    "   - What are the pros and cons of this approach?\n",
    "   - Which regions might you be suspicious of?"
   ]
  },
  {
   "cell_type": "markdown",
   "metadata": {},
   "source": [
    "Have a look at the error profile. Are some parts of the genome better than others? Can you correlate this with the sequence?"
   ]
  },
  {
   "cell_type": "markdown",
   "metadata": {
    "collapsed": true
   },
   "source": [
    "## Variant calling"
   ]
  },
  {
   "cell_type": "markdown",
   "metadata": {
    "collapsed": true
   },
   "source": [
    "The Ebola virus mutation rate is in the order of 1.2 x 10^-3 mutations/site/year. The genome size is 19000 bases long. This sample was collected about a year after the reference genome. Approximately how many SNPs do you expect to see?"
   ]
  },
  {
   "cell_type": "markdown",
   "metadata": {},
   "source": [
    "Call SNPs - by eye!"
   ]
  },
  {
   "cell_type": "markdown",
   "metadata": {},
   "source": [
    "   - Make a list of SNPs - which ones are hard to assess?"
   ]
  },
  {
   "cell_type": "markdown",
   "metadata": {
    "collapsed": true
   },
   "source": [
    "### Variant calling with nanopolish"
   ]
  },
  {
   "cell_type": "markdown",
   "metadata": {},
   "source": [
    "Calling variants with nanopolish relies on squiggle data to generate the best consensus and gives a nicer result.\n",
    "\n",
    "To call variants, there are three steps:\n",
    "\n",
    "   - align the reads with BWA (or another aligner, such as marginAlign, or LAST)\n",
    "   - align the events with ``nanopolish eventalign``\n",
    "   - call a VCF with ``nanopolish variants``"
   ]
  },
  {
   "cell_type": "markdown",
   "metadata": {},
   "source": [
    "We've already aligned the reads (output file from BWA was ``Ebola2D.sorted.bam``)"
   ]
  },
  {
   "cell_type": "code",
   "execution_count": null,
   "metadata": {
    "collapsed": true
   },
   "outputs": [],
   "source": [
    "nanopolish-r7 eventalign --reads Ebola2D.fasta -b Ebola2D.sorted.bam -g EM_079517.fasta --sam | samtools view -bS - | samtools sort - -o Ebola2D.eventalign.bam"
   ]
  },
  {
   "cell_type": "markdown",
   "metadata": {},
   "source": [
    "We need to index the new BAM file that ``nanopolish eventalign`` produced:\n"
   ]
  },
  {
   "cell_type": "code",
   "execution_count": null,
   "metadata": {
    "collapsed": true
   },
   "outputs": [],
   "source": [
    "samtools index Ebola2D.eventalign.bam"
   ]
  },
  {
   "cell_type": "markdown",
   "metadata": {},
   "source": [
    "And now we need to get the variants in VCF format:"
   ]
  },
  {
   "cell_type": "code",
   "execution_count": null,
   "metadata": {
    "collapsed": true
   },
   "outputs": [],
   "source": [
    "nanopolish-r7 variants --progress -t 1 --reads Ebola2D.fasta -o Ebola2D.vcf -b Ebola2D.sorted.bam -e Ebola2D.eventalign.bam -g EM_079517.fasta -vv -w \"EM_079517:0-20000\" --snp"
   ]
  },
  {
   "cell_type": "markdown",
   "metadata": {},
   "source": [
    "It is actually possible to use different models with nanopolish variants specifying the model filenames ``--models-fofn offset_models.fofn``. In this case we swap the original 5-mer model for a 6-mer model."
   ]
  },
  {
   "cell_type": "markdown",
   "metadata": {},
   "source": [
    "Copy the model files into your current directory from: /data2/models/ into your current directory."
   ]
  },
  {
   "cell_type": "code",
   "execution_count": null,
   "metadata": {
    "collapsed": true
   },
   "outputs": [],
   "source": [
    "cp /data2/models/* ."
   ]
  },
  {
   "cell_type": "markdown",
   "metadata": {},
   "source": [
    "Compare this list with the list of variants that you already eyeballed. How do they compare?\n",
    "\n",
    "Did nanopolish spot things that you didn't?\n",
    "\n",
    "Did nanopolish get anything wrong? Could you figure out a way of filtering the VCF to remove these errors? "
   ]
  },
  {
   "cell_type": "markdown",
   "metadata": {},
   "source": [
    "## SNP calling with 6-mer model"
   ]
  },
  {
   "cell_type": "code",
   "execution_count": null,
   "metadata": {
    "collapsed": true
   },
   "outputs": [],
   "source": [
    "nanopolish variants --progress -t 1 --reads Ebola2D.fasta -o Ebola2D.6mer.vcf -b Ebola2D.sorted.bam -e Ebola2D.eventalign.bam -g EM_079517.fasta -vv -w \"EM_079517:0-20000\" --snp"
   ]
  },
  {
   "cell_type": "markdown",
   "metadata": {},
   "source": [
    "   - How does the new VCF ``Ebola2D.6mer.vcf`` look compared with the old one?"
   ]
  }
 ],
 "metadata": {
  "kernelspec": {
   "display_name": "Python 2",
   "language": "python",
   "name": "python2"
  },
  "language_info": {
   "codemirror_mode": {
    "name": "ipython",
    "version": 2
   },
   "file_extension": ".py",
   "mimetype": "text/x-python",
   "name": "python",
   "nbconvert_exporter": "python",
   "pygments_lexer": "ipython2",
   "version": "2.7.10"
  }
 },
 "nbformat": 4,
 "nbformat_minor": 0
}
